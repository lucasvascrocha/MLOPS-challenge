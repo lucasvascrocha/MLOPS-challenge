{
 "cells": [
  {
   "cell_type": "code",
   "execution_count": 1,
   "id": "a6663321",
   "metadata": {},
   "outputs": [],
   "source": [
    "import requests"
   ]
  },
  {
   "cell_type": "markdown",
   "id": "0a73ffb7",
   "metadata": {},
   "source": [
    "# Local deploy"
   ]
  },
  {
   "cell_type": "code",
   "execution_count": 6,
   "id": "36ce7465",
   "metadata": {},
   "outputs": [
    {
     "data": {
      "text/plain": [
       "{'RFC model': '1.0'}"
      ]
     },
     "execution_count": 6,
     "metadata": {},
     "output_type": "execute_result"
    }
   ],
   "source": [
    "# Check Helth\n",
    "resp = requests.get('http://localhost:8000')\n",
    "\n",
    "resp.json()"
   ]
  },
  {
   "cell_type": "code",
   "execution_count": 22,
   "id": "97fc4779",
   "metadata": {},
   "outputs": [],
   "source": [
    "from sklearn import datasets\n",
    "#digits = datasets.load_digits().data\n",
    "data = datasets.load_iris()"
   ]
  },
  {
   "cell_type": "code",
   "execution_count": 25,
   "id": "0cd83f48",
   "metadata": {},
   "outputs": [
    {
     "data": {
      "text/plain": [
       "[5.1, 3.5, 1.4, 0.2]"
      ]
     },
     "execution_count": 25,
     "metadata": {},
     "output_type": "execute_result"
    }
   ],
   "source": [
    "data.data[0].tolist()"
   ]
  },
  {
   "cell_type": "code",
   "execution_count": 26,
   "id": "39e45e2c",
   "metadata": {},
   "outputs": [
    {
     "name": "stdout",
     "output_type": "stream",
     "text": [
      "Request Status: 200\n"
     ]
    },
    {
     "data": {
      "text/plain": [
       "{'digit_value': 0}"
      ]
     },
     "execution_count": 26,
     "metadata": {},
     "output_type": "execute_result"
    }
   ],
   "source": [
    "# Input parameters\n",
    "param = {'digit_image':data.data[0].tolist()}\n",
    "\n",
    "\n",
    "resp = requests.post('http://localhost:8000/single_predict', json = param)\n",
    "print(f'Request Status: {resp.status_code}')\n",
    "resp.json()"
   ]
  },
  {
   "cell_type": "code",
   "execution_count": 27,
   "id": "123e865a",
   "metadata": {},
   "outputs": [
    {
     "data": {
      "text/plain": [
       "[[5.1, 3.5, 1.4, 0.2],\n",
       " [4.9, 3.0, 1.4, 0.2],\n",
       " [4.7, 3.2, 1.3, 0.2],\n",
       " [4.6, 3.1, 1.5, 0.2],\n",
       " [5.0, 3.6, 1.4, 0.2]]"
      ]
     },
     "execution_count": 27,
     "metadata": {},
     "output_type": "execute_result"
    }
   ],
   "source": [
    "data.data[0:5].tolist()"
   ]
  },
  {
   "cell_type": "code",
   "execution_count": 31,
   "id": "e7ede670",
   "metadata": {},
   "outputs": [
    {
     "name": "stdout",
     "output_type": "stream",
     "text": [
      "Request Status: 200\n"
     ]
    },
    {
     "data": {
      "text/plain": [
       "{'digit_values': [0, 0, 0, 0, 0]}"
      ]
     },
     "execution_count": 31,
     "metadata": {},
     "output_type": "execute_result"
    }
   ],
   "source": [
    "# Input parameters\n",
    "param = {'digit_images':data.data[0:5].tolist()}\n",
    "\n",
    "\n",
    "resp = requests.post('http://localhost:8000/batch_predict', json = param)\n",
    "print(f'Request Status: {resp.status_code}')\n",
    "resp.json()"
   ]
  },
  {
   "cell_type": "markdown",
   "id": "c6eca5b5",
   "metadata": {},
   "source": [
    "# Docker deploy local"
   ]
  },
  {
   "cell_type": "code",
   "execution_count": 38,
   "id": "12b8b269",
   "metadata": {},
   "outputs": [
    {
     "data": {
      "text/plain": [
       "{'RFC model': '1.0'}"
      ]
     },
     "execution_count": 38,
     "metadata": {},
     "output_type": "execute_result"
    }
   ],
   "source": [
    "# Check Helth\n",
    "resp = requests.get('http://localhost:8000')\n",
    "\n",
    "resp.json()"
   ]
  },
  {
   "cell_type": "code",
   "execution_count": 39,
   "id": "bc79ee92",
   "metadata": {},
   "outputs": [
    {
     "name": "stdout",
     "output_type": "stream",
     "text": [
      "Request Status: 200\n"
     ]
    },
    {
     "data": {
      "text/plain": [
       "{'digit_value': 0}"
      ]
     },
     "execution_count": 39,
     "metadata": {},
     "output_type": "execute_result"
    }
   ],
   "source": [
    "# Input parameters\n",
    "param = {'digit_image':data.data[0].tolist()}\n",
    "\n",
    "\n",
    "resp = requests.post('http://localhost:8000/single_predict', json = param)\n",
    "print(f'Request Status: {resp.status_code}')\n",
    "resp.json()"
   ]
  },
  {
   "cell_type": "code",
   "execution_count": 40,
   "id": "0e978d4b",
   "metadata": {},
   "outputs": [
    {
     "name": "stdout",
     "output_type": "stream",
     "text": [
      "Request Status: 200\n"
     ]
    },
    {
     "data": {
      "text/plain": [
       "{'digit_values': [0, 0, 0, 0, 0]}"
      ]
     },
     "execution_count": 40,
     "metadata": {},
     "output_type": "execute_result"
    }
   ],
   "source": [
    "# Input parameters\n",
    "param = {'digit_images':data.data[0:5].tolist()}\n",
    "\n",
    "\n",
    "resp = requests.post('http://localhost:8000/batch_predict', json = param)\n",
    "print(f'Request Status: {resp.status_code}')\n",
    "resp.json()"
   ]
  },
  {
   "cell_type": "code",
   "execution_count": null,
   "id": "52b7effe",
   "metadata": {},
   "outputs": [],
   "source": []
  },
  {
   "cell_type": "markdown",
   "id": "8733fc06",
   "metadata": {},
   "source": [
    "# Docker deploy GCP"
   ]
  },
  {
   "cell_type": "code",
   "execution_count": null,
   "id": "1eb2056d",
   "metadata": {},
   "outputs": [],
   "source": [
    "#34.121.206.101"
   ]
  },
  {
   "cell_type": "code",
   "execution_count": 49,
   "id": "0f375d1d",
   "metadata": {},
   "outputs": [
    {
     "data": {
      "text/plain": [
       "{'RFC model': '1.0'}"
      ]
     },
     "execution_count": 49,
     "metadata": {},
     "output_type": "execute_result"
    }
   ],
   "source": [
    "# Check Helth\n",
    "resp = requests.get('http://34.121.206.101:8000')\n",
    "\n",
    "resp.json()"
   ]
  },
  {
   "cell_type": "code",
   "execution_count": 50,
   "id": "69b9a1e9",
   "metadata": {},
   "outputs": [
    {
     "name": "stdout",
     "output_type": "stream",
     "text": [
      "Request Status: 200\n"
     ]
    },
    {
     "data": {
      "text/plain": [
       "{'digit_value': 0}"
      ]
     },
     "execution_count": 50,
     "metadata": {},
     "output_type": "execute_result"
    }
   ],
   "source": [
    "# Input parameters\n",
    "param = {'digit_image':data.data[0].tolist()}\n",
    "\n",
    "\n",
    "resp = requests.post('http://34.121.206.101:8000/single_predict', json = param)\n",
    "print(f'Request Status: {resp.status_code}')\n",
    "resp.json()"
   ]
  },
  {
   "cell_type": "code",
   "execution_count": 51,
   "id": "2a6eda86",
   "metadata": {},
   "outputs": [
    {
     "name": "stdout",
     "output_type": "stream",
     "text": [
      "Request Status: 200\n"
     ]
    },
    {
     "data": {
      "text/plain": [
       "{'digit_values': [0, 0, 0, 0, 0]}"
      ]
     },
     "execution_count": 51,
     "metadata": {},
     "output_type": "execute_result"
    }
   ],
   "source": [
    "# Input parameters\n",
    "param = {'digit_images':data.data[0:5].tolist()}\n",
    "\n",
    "\n",
    "resp = requests.post('http://34.121.206.101:8000/batch_predict', json = param)\n",
    "print(f'Request Status: {resp.status_code}')\n",
    "resp.json()"
   ]
  }
 ],
 "metadata": {
  "kernelspec": {
   "display_name": "Python 3 (ipykernel)",
   "language": "python",
   "name": "python3"
  },
  "language_info": {
   "codemirror_mode": {
    "name": "ipython",
    "version": 3
   },
   "file_extension": ".py",
   "mimetype": "text/x-python",
   "name": "python",
   "nbconvert_exporter": "python",
   "pygments_lexer": "ipython3",
   "version": "3.11.5"
  },
  "toc": {
   "base_numbering": 1,
   "nav_menu": {},
   "number_sections": true,
   "sideBar": true,
   "skip_h1_title": false,
   "title_cell": "Table of Contents",
   "title_sidebar": "Contents",
   "toc_cell": false,
   "toc_position": {},
   "toc_section_display": true,
   "toc_window_display": false
  },
  "varInspector": {
   "cols": {
    "lenName": 16,
    "lenType": 16,
    "lenVar": 40
   },
   "kernels_config": {
    "python": {
     "delete_cmd_postfix": "",
     "delete_cmd_prefix": "del ",
     "library": "var_list.py",
     "varRefreshCmd": "print(var_dic_list())"
    },
    "r": {
     "delete_cmd_postfix": ") ",
     "delete_cmd_prefix": "rm(",
     "library": "var_list.r",
     "varRefreshCmd": "cat(var_dic_list()) "
    }
   },
   "types_to_exclude": [
    "module",
    "function",
    "builtin_function_or_method",
    "instance",
    "_Feature"
   ],
   "window_display": false
  }
 },
 "nbformat": 4,
 "nbformat_minor": 5
}
